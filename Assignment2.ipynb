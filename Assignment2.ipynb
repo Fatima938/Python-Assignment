{
 "cells": [
  {
   "cell_type": "code",
   "execution_count": 4,
   "metadata": {},
   "outputs": [
    {
     "name": "stdout",
     "output_type": "stream",
     "text": [
      "Enter your percentage780\n",
      "you have given an unappropriate percentage\n"
     ]
    }
   ],
   "source": [
    "per = int(input(\"Enter your percentage\"));\n",
    "if per >= 80 and per <= 100:\n",
    "    print(\"A+\")\n",
    "elif per >= 70 and per < 80:\n",
    "    print(\"A\")\n",
    "elif per >= 70 and per < 80:\n",
    "    print(\"A\")\n",
    "elif per >= 60 and per < 70:\n",
    "    print(\"B\")    \n",
    "elif per >= 50 and per < 60:\n",
    "    print(\"C\")\n",
    "elif per >= 40 and per < 50:\n",
    "    print(\"D\")\n",
    "elif per >= 33 and per < 40:\n",
    "    print(\"E\")\n",
    "elif per >= 0 and per < 33:\n",
    "    print(\"FAIL\")\n",
    "else:\n",
    "    print(\"you have given an unappropriate percentage\")"
   ]
  },
  {
   "cell_type": "code",
   "execution_count": 5,
   "metadata": {},
   "outputs": [
    {
     "name": "stdout",
     "output_type": "stream",
     "text": [
      "How many numbers: 2\n",
      "Enter number 6\n",
      "Enter number 2\n",
      "Sum of elements in given list is : 8\n"
     ]
    }
   ],
   "source": [
    "lst = []\n",
    "num = int(input('How many numbers: '))\n",
    "for n in range(num):\n",
    "    numbers = int(input('Enter number '))\n",
    "    lst.append(numbers)\n",
    "print(\"Sum of elements in given list is :\", sum(lst))"
   ]
  },
  {
   "cell_type": "code",
   "execution_count": 9,
   "metadata": {},
   "outputs": [
    {
     "name": "stdout",
     "output_type": "stream",
     "text": [
      "[1, 1, 2, 3]\n"
     ]
    }
   ],
   "source": [
    "arr = [1,1,2,3,5,8,13,21,34,55,89]\n",
    "arr1 = arr[:4]\n",
    "print(arr1)"
   ]
  },
  {
   "cell_type": "code",
   "execution_count": null,
   "metadata": {},
   "outputs": [],
   "source": [
    "num = int(input(\"Enter a number: \"))\n",
    "if (num % 2) == 0:\n",
    "   print(\"{0} is Even\".format(num))\n",
    "else:\n",
    "   print(\"{0} is Odd\".format(num))\n"
   ]
  },
  {
   "cell_type": "code",
   "execution_count": null,
   "metadata": {},
   "outputs": [],
   "source": [
    "# Initializing list  \n",
    "test_list = [ 1, 4, 5, 7, 8 ] \n",
    "  \n",
    "# Printing test_list \n",
    "print (\"The list is : \" + str(test_list)) \n",
    "  \n",
    "# Finding length of list  \n",
    "# using loop \n",
    "# Initializing counter \n",
    "counter = 0\n",
    "for i in test_list: \n",
    "      \n",
    "    # incrementing counter \n",
    "    counter = counter + 1\n",
    "  \n",
    "# Printing length of list  \n",
    "print (\"Length of list using naive method is : \" + str(counter))"
   ]
  },
  {
   "cell_type": "code",
   "execution_count": null,
   "metadata": {},
   "outputs": [],
   "source": [
    "lst = []\n",
    "num = int(input('How many numbers: '))\n",
    "for n in range(num):\n",
    "    numbers = int(input('Enter number '))\n",
    "    lst.append(numbers)\n",
    "print(\"Maximum element in the list is :\", max(lst), \"\\nMinimum element in the list is :\", min(lst))"
   ]
  }
 ],
 "metadata": {
  "kernelspec": {
   "display_name": "Python 3",
   "language": "python",
   "name": "python3"
  },
  "language_info": {
   "codemirror_mode": {
    "name": "ipython",
    "version": 3
   },
   "file_extension": ".py",
   "mimetype": "text/x-python",
   "name": "python",
   "nbconvert_exporter": "python",
   "pygments_lexer": "ipython3",
   "version": "3.7.4"
  }
 },
 "nbformat": 4,
 "nbformat_minor": 2
}
