{
 "cells": [
  {
   "cell_type": "code",
   "execution_count": 11,
   "metadata": {},
   "outputs": [
    {
     "name": "stdout",
     "output_type": "stream",
     "text": [
      "Enter first value3\n",
      "Enter second value2\n",
      "Enter operator**\n",
      "Enter correct operator\n"
     ]
    }
   ],
   "source": [
    "val1 = int(input(\"Enter first value\"))\n",
    "val2 = int(input(\"Enter second value\"))\n",
    "\n",
    "opr = input(\"Enter operator\")\n",
    "\n",
    "if opr == '+':\n",
    "    val = val1 + val2\n",
    "    print(val, \"answer\")\n",
    "elif opr == '-':\n",
    "    val = val1 - val2\n",
    "    print(val, \"answer\")\n",
    "elif opr == '*':\n",
    "    val = val1 * val2\n",
    "    print(val, \"answer\")\n",
    "elif opr == '/':\n",
    "    val = val1 / val2\n",
    "    print(val, \"answer\")   \n",
    "elif opr == '/':\n",
    "    val = val1 ** val2\n",
    "    print(val, \"answer\")     \n",
    "else:\n",
    "    print('Enter correct operator')"
   ]
  },
  {
   "cell_type": "code",
   "execution_count": 12,
   "metadata": {},
   "outputs": [
    {
     "name": "stdout",
     "output_type": "stream",
     "text": [
      "Enter First number: 2\n",
      "Enter Second number 2\n",
      "Sum of  2 and 2 is : 4\n",
      "Difference of  2 and 2 is : 0\n",
      "Product of 2 and 2 is : 4\n",
      "Division of  2 and 2 is : 1.0\n",
      "Floor Division of  2 and 2 is : 1\n",
      "Exponent of  2 and 2 is : 4\n",
      "Modulus of  2 and 2 is : 0\n"
     ]
    }
   ],
   "source": [
    "num1 = int(input('Enter First number: '))\n",
    "num2 = int(input('Enter Second number '))\n",
    "add = num1 + num2\n",
    "dif = num1 - num2\n",
    "mul = num1 * num2\n",
    "div = num1 / num2\n",
    "floor_div = num1 // num2\n",
    "power = num1 ** num2\n",
    "modulus = num1 % num2\n",
    "print('Sum of ',num1 ,'and' ,num2 ,'is :',add)\n",
    "print('Difference of ',num1 ,'and' ,num2 ,'is :',dif)\n",
    "print('Product of' ,num1 ,'and' ,num2 ,'is :',mul)\n",
    "print('Division of ',num1 ,'and' ,num2 ,'is :',div)\n",
    "print('Floor Division of ',num1 ,'and' ,num2 ,'is :',floor_div)\n",
    "print('Exponent of ',num1 ,'and' ,num2 ,'is :',power)\n",
    "print('Modulus of ',num1 ,'and' ,num2 ,'is :',modulus)"
   ]
  },
  {
   "cell_type": "code",
   "execution_count": 14,
   "metadata": {},
   "outputs": [
    {
     "name": "stdout",
     "output_type": "stream",
     "text": [
      "Checking if 4 exists in list ( using set() + in) : \n",
      "Element Exists\n",
      "Checking if 4 exists in list ( using sort() + bisect_left() ) : \n",
      "Element Exists\n"
     ]
    }
   ],
   "source": [
    "# Python code to demonstrate \n",
    "# checking of element existence \n",
    "# using set() + in \n",
    "# using sort() + bisect_left() \n",
    "from bisect import bisect_left  \n",
    "  \n",
    "# Initializing list  \n",
    "test_list_set = [ 1, 6, 3, 5, 3, 4 ] \n",
    "test_list_bisect = [ 1, 6, 3, 5, 3, 4 ] \n",
    "  \n",
    "print(\"Checking if 4 exists in list ( using set() + in) : \") \n",
    "  \n",
    "# Checking if 4 exists in list  \n",
    "# using set() + in \n",
    "test_list_set = set(test_list_set) \n",
    "if 4 in test_list_set : \n",
    "    print (\"Element Exists\") \n",
    "  \n",
    "print(\"Checking if 4 exists in list ( using sort() + bisect_left() ) : \") \n",
    "  \n",
    "# Checking if 4 exists in list  \n",
    "# using sort() + bisect_left() \n",
    "test_list_bisect.sort() \n",
    "if bisect_left(test_list_bisect, 4): \n",
    "    print (\"Element Exists\") \n"
   ]
  },
  {
   "cell_type": "code",
   "execution_count": 15,
   "metadata": {},
   "outputs": [
    {
     "name": "stdout",
     "output_type": "stream",
     "text": [
      "{0: 10, 1: 20}\n",
      "{0: 10, 1: 20, 2: 30}\n"
     ]
    }
   ],
   "source": [
    "d = {0:10, 1:20}  \n",
    "print(d)  \n",
    "d.update({2:30})  \n",
    "print(d)"
   ]
  },
  {
   "cell_type": "code",
   "execution_count": 16,
   "metadata": {},
   "outputs": [
    {
     "name": "stdout",
     "output_type": "stream",
     "text": [
      "Sum : 600\n"
     ]
    }
   ],
   "source": [
    "# Python3 Program to find sum of  \n",
    "# all items in a Dictionary \n",
    "  \n",
    "# Function to print sum \n",
    "def returnSum(myDict): \n",
    "      \n",
    "    sum = 0\n",
    "    for i in myDict: \n",
    "        sum = sum + myDict[i] \n",
    "      \n",
    "    return sum\n",
    "  \n",
    "# Driver Function \n",
    "dict = {'a': 100, 'b':200, 'c':300} \n",
    "print(\"Sum :\", returnSum(dict)) "
   ]
  },
  {
   "cell_type": "code",
   "execution_count": 17,
   "metadata": {},
   "outputs": [
    {
     "name": "stdout",
     "output_type": "stream",
     "text": [
      "[20, 30, -20, 60]\n"
     ]
    }
   ],
   "source": [
    "# Python program to print  \n",
    "# duplicates from a list  \n",
    "# of integers \n",
    "def Repeat(x): \n",
    "    _size = len(x) \n",
    "    repeated = [] \n",
    "    for i in range(_size): \n",
    "        k = i + 1\n",
    "        for j in range(k, _size): \n",
    "            if x[i] == x[j] and x[i] not in repeated: \n",
    "                repeated.append(x[i]) \n",
    "    return repeated \n",
    "  \n",
    "# Driver Code \n",
    "list1 = [10, 20, 30, 20, 20, 30, 40,  \n",
    "         50, -20, 60, 60, -20, -20] \n",
    "print (Repeat(list1)) \n",
    "      \n",
    "# This code is contributed  \n",
    "# by Sandeep_anand "
   ]
  },
  {
   "cell_type": "code",
   "execution_count": 18,
   "metadata": {},
   "outputs": [
    {
     "name": "stdout",
     "output_type": "stream",
     "text": [
      "Key is present in the dictionary\n",
      "Key is not present in the dictionary\n"
     ]
    }
   ],
   "source": [
    "d = {1: 10, 2: 20, 3: 30, 4: 40, 5: 50, 6: 60}\n",
    "def is_key_present(x):\n",
    "  if x in d:\n",
    "      print('Key is present in the dictionary')\n",
    "  else:\n",
    "      print('Key is not present in the dictionary')\n",
    "is_key_present(5)\n",
    "is_key_present(9)\n"
   ]
  },
  {
   "cell_type": "code",
   "execution_count": 19,
   "metadata": {},
   "outputs": [
    {
     "name": "stdout",
     "output_type": "stream",
     "text": [
      "Present,  value = 200\n",
      "Not present\n"
     ]
    }
   ],
   "source": [
    "# Python3 Program to check whether a  \n",
    "# given key already exists in a dictionary. \n",
    "  \n",
    "# Function to print sum \n",
    "def checkKey(dict, key): \n",
    "      \n",
    "    if key in dict: \n",
    "        print(\"Present, \", end =\" \") \n",
    "        print(\"value =\", dict[key]) \n",
    "    else: \n",
    "        print(\"Not present\") \n",
    "  \n",
    "# Driver Code \n",
    "dict = {'a': 100, 'b':200, 'c':300} \n",
    "  \n",
    "key = 'b'\n",
    "checkKey(dict, key) \n",
    "  \n",
    "key = 'w'\n",
    "checkKey(dict, key) "
   ]
  },
  {
   "cell_type": "code",
   "execution_count": null,
   "metadata": {},
   "outputs": [],
   "source": []
  }
 ],
 "metadata": {
  "kernelspec": {
   "display_name": "Python 3",
   "language": "python",
   "name": "python3"
  },
  "language_info": {
   "codemirror_mode": {
    "name": "ipython",
    "version": 3
   },
   "file_extension": ".py",
   "mimetype": "text/x-python",
   "name": "python",
   "nbconvert_exporter": "python",
   "pygments_lexer": "ipython3",
   "version": "3.7.4"
  }
 },
 "nbformat": 4,
 "nbformat_minor": 2
}
